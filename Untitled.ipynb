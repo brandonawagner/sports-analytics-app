{
 "cells": [
  {
   "cell_type": "code",
   "execution_count": 4,
   "id": "155754fd",
   "metadata": {},
   "outputs": [],
   "source": [
    "import io\n",
    "import boto3\n",
    "import pandas as pd\n",
    "import urllib.request\n",
    "from bs4 import BeautifulSoup\n",
    "import ssl"
   ]
  },
  {
   "cell_type": "code",
   "execution_count": 5,
   "id": "c51525f6",
   "metadata": {},
   "outputs": [],
   "source": [
    "bucket_name = 'bw-sports-analytics-data'\n",
    "host_name = 'https://sports-statistics.com'\n",
    "url = host_name + '/sports-data/college-football-stats-datasets-csv-database/'"
   ]
  },
  {
   "cell_type": "code",
   "execution_count": 8,
   "id": "bb6b9671",
   "metadata": {},
   "outputs": [
    {
     "data": {
      "text/plain": [
       "{'ResponseMetadata': {'RequestId': 'ZQD5DEGPPSB98ATT',\n",
       "  'HostId': 'K02mfm7PGOLVh7fI8/rwuM45AB+2aFQWBdGADIMLRfiQfUgkBMLqY8rwEEO364OJ8aIFN3QUzVE=',\n",
       "  'HTTPStatusCode': 200,\n",
       "  'HTTPHeaders': {'x-amz-id-2': 'K02mfm7PGOLVh7fI8/rwuM45AB+2aFQWBdGADIMLRfiQfUgkBMLqY8rwEEO364OJ8aIFN3QUzVE=',\n",
       "   'x-amz-request-id': 'ZQD5DEGPPSB98ATT',\n",
       "   'date': 'Mon, 26 Dec 2022 20:01:01 GMT',\n",
       "   'location': '/bw-sports-analytics-data',\n",
       "   'server': 'AmazonS3',\n",
       "   'content-length': '0'},\n",
       "  'RetryAttempts': 0},\n",
       " 'Location': '/bw-sports-analytics-data'}"
      ]
     },
     "execution_count": 8,
     "metadata": {},
     "output_type": "execute_result"
    }
   ],
   "source": [
    "# Disable certificate verification\n",
    "context = ssl.create_default_context()\n",
    "context.check_hostname = False\n",
    "context.verify_mode = ssl.CERT_NONE\n",
    "html = urllib.request.urlopen(url, context=context).read()\n",
    "soup = BeautifulSoup(html, 'html.parser')\n",
    "\n",
    "# Find all the anchor tags in the HTML\n",
    "alink_tags = soup.find_all('a', href=True)\n",
    "\n",
    "# Set up the S3 client\n",
    "s3 = boto3.client('s3')\n",
    "s3.create_bucket(Bucket=bucket_name)"
   ]
  },
  {
   "cell_type": "code",
   "execution_count": 1,
   "id": "3690c2ce",
   "metadata": {},
   "outputs": [],
   "source": [
    "import json"
   ]
  },
  {
   "cell_type": "code",
   "execution_count": null,
   "id": "bba06927",
   "metadata": {},
   "outputs": [],
   "source": []
  }
 ],
 "metadata": {
  "kernelspec": {
   "display_name": "Python 3 (ipykernel)",
   "language": "python",
   "name": "python3"
  },
  "language_info": {
   "codemirror_mode": {
    "name": "ipython",
    "version": 3
   },
   "file_extension": ".py",
   "mimetype": "text/x-python",
   "name": "python",
   "nbconvert_exporter": "python",
   "pygments_lexer": "ipython3",
   "version": "3.10.2"
  }
 },
 "nbformat": 4,
 "nbformat_minor": 5
}
